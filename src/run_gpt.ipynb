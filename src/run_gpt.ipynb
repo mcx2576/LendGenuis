{
 "cells": [
  {
   "cell_type": "code",
   "execution_count": 1,
   "metadata": {},
   "outputs": [],
   "source": [
    "from load_data import read_data, read_env\n",
    "import os"
   ]
  },
  {
   "cell_type": "code",
   "execution_count": null,
   "metadata": {},
   "outputs": [],
   "source": [
    "# API key\n",
    "read_env(os.getcwd()[:-3])"
   ]
  },
  {
   "cell_type": "code",
   "execution_count": 5,
   "metadata": {},
   "outputs": [
    {
     "data": {
      "text/html": [
       "<div>\n",
       "<style scoped>\n",
       "    .dataframe tbody tr th:only-of-type {\n",
       "        vertical-align: middle;\n",
       "    }\n",
       "\n",
       "    .dataframe tbody tr th {\n",
       "        vertical-align: top;\n",
       "    }\n",
       "\n",
       "    .dataframe thead th {\n",
       "        text-align: right;\n",
       "    }\n",
       "</style>\n",
       "<table border=\"1\" class=\"dataframe\">\n",
       "  <thead>\n",
       "    <tr style=\"text-align: right;\">\n",
       "      <th></th>\n",
       "      <th>item_1_short</th>\n",
       "      <th>Labelling</th>\n",
       "    </tr>\n",
       "  </thead>\n",
       "  <tbody>\n",
       "    <tr>\n",
       "      <th>0</th>\n",
       "      <td>ITEM 1. BUSINESS ﻿ INTRODUCTION ﻿ Evolving Sys...</td>\n",
       "      <td>Evolving Systems provides real-time digital en...</td>\n",
       "    </tr>\n",
       "    <tr>\n",
       "      <th>1</th>\n",
       "      <td>ITEM 1. BUSINESS Our Business We develop, mark...</td>\n",
       "      <td>We develop, market, license, host, and support...</td>\n",
       "    </tr>\n",
       "    <tr>\n",
       "      <th>2</th>\n",
       "      <td>ITEM 1. Business Overview Model N is a leading...</td>\n",
       "      <td>Model N is a leading provider of cloud revenue...</td>\n",
       "    </tr>\n",
       "    <tr>\n",
       "      <th>3</th>\n",
       "      <td>Item 1. Business Overview Datadog is the monit...</td>\n",
       "      <td>Datadog is the monitoring and analytics platfo...</td>\n",
       "    </tr>\n",
       "    <tr>\n",
       "      <th>4</th>\n",
       "      <td>Item 1. Business Overview AudioEye is an indus...</td>\n",
       "      <td>AudioEye is an industry-leading software solut...</td>\n",
       "    </tr>\n",
       "    <tr>\n",
       "      <th>...</th>\n",
       "      <td>...</td>\n",
       "      <td>...</td>\n",
       "    </tr>\n",
       "    <tr>\n",
       "      <th>6</th>\n",
       "      <td>Item 1. Business Overview Our mission is to ma...</td>\n",
       "      <td>As a leading provider of cloud-based software ...</td>\n",
       "    </tr>\n",
       "    <tr>\n",
       "      <th>7</th>\n",
       "      <td>ITEM 1.BUSINESS Overview Ideanomics, Inc. (“Id...</td>\n",
       "      <td>Ideanomics, Inc. (“Ideanomics” or the “Company...</td>\n",
       "    </tr>\n",
       "    <tr>\n",
       "      <th>8</th>\n",
       "      <td>ITEM 1. BUSINESS Solely for convenience, trade...</td>\n",
       "      <td>Overview BIO-key International, Inc. (the “Com...</td>\n",
       "    </tr>\n",
       "    <tr>\n",
       "      <th>9</th>\n",
       "      <td>Item 1. Business Factors History The Company w...</td>\n",
       "      <td>The Company was formed in Delaware on June 5, ...</td>\n",
       "    </tr>\n",
       "    <tr>\n",
       "      <th>10</th>\n",
       "      <td>Item 1. Business Company and Segment Overview ...</td>\n",
       "      <td>Synopsys, Inc. provides products and services ...</td>\n",
       "    </tr>\n",
       "  </tbody>\n",
       "</table>\n",
       "<p>101 rows × 2 columns</p>\n",
       "</div>"
      ],
      "text/plain": [
       "                                         item_1_short  \\\n",
       "0   ITEM 1. BUSINESS ﻿ INTRODUCTION ﻿ Evolving Sys...   \n",
       "1   ITEM 1. BUSINESS Our Business We develop, mark...   \n",
       "2   ITEM 1. Business Overview Model N is a leading...   \n",
       "3   Item 1. Business Overview Datadog is the monit...   \n",
       "4   Item 1. Business Overview AudioEye is an indus...   \n",
       "..                                                ...   \n",
       "6   Item 1. Business Overview Our mission is to ma...   \n",
       "7   ITEM 1.BUSINESS Overview Ideanomics, Inc. (“Id...   \n",
       "8   ITEM 1. BUSINESS Solely for convenience, trade...   \n",
       "9   Item 1. Business Factors History The Company w...   \n",
       "10  Item 1. Business Company and Segment Overview ...   \n",
       "\n",
       "                                            Labelling  \n",
       "0   Evolving Systems provides real-time digital en...  \n",
       "1   We develop, market, license, host, and support...  \n",
       "2   Model N is a leading provider of cloud revenue...  \n",
       "3   Datadog is the monitoring and analytics platfo...  \n",
       "4   AudioEye is an industry-leading software solut...  \n",
       "..                                                ...  \n",
       "6   As a leading provider of cloud-based software ...  \n",
       "7   Ideanomics, Inc. (“Ideanomics” or the “Company...  \n",
       "8   Overview BIO-key International, Inc. (the “Com...  \n",
       "9   The Company was formed in Delaware on June 5, ...  \n",
       "10  Synopsys, Inc. provides products and services ...  \n",
       "\n",
       "[101 rows x 2 columns]"
      ]
     },
     "execution_count": 5,
     "metadata": {},
     "output_type": "execute_result"
    }
   ],
   "source": [
    "read_data(os.getcwd()[:-3] + \"/data\")"
   ]
  },
  {
   "cell_type": "code",
   "execution_count": null,
   "metadata": {},
   "outputs": [],
   "source": []
  }
 ],
 "metadata": {
  "kernelspec": {
   "display_name": "py38",
   "language": "python",
   "name": "python3"
  },
  "language_info": {
   "codemirror_mode": {
    "name": "ipython",
    "version": 3
   },
   "file_extension": ".py",
   "mimetype": "text/x-python",
   "name": "python",
   "nbconvert_exporter": "python",
   "pygments_lexer": "ipython3",
   "version": "3.8.15"
  },
  "orig_nbformat": 4
 },
 "nbformat": 4,
 "nbformat_minor": 2
}
