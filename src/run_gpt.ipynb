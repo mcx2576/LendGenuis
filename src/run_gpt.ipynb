{
 "cells": [
  {
   "cell_type": "code",
   "execution_count": 9,
   "metadata": {},
   "outputs": [
    {
     "data": {
      "text/html": [
       "<div>\n",
       "<style scoped>\n",
       "    .dataframe tbody tr th:only-of-type {\n",
       "        vertical-align: middle;\n",
       "    }\n",
       "\n",
       "    .dataframe tbody tr th {\n",
       "        vertical-align: top;\n",
       "    }\n",
       "\n",
       "    .dataframe thead th {\n",
       "        text-align: right;\n",
       "    }\n",
       "</style>\n",
       "<table border=\"1\" class=\"dataframe\">\n",
       "  <thead>\n",
       "    <tr style=\"text-align: right;\">\n",
       "      <th></th>\n",
       "      <th>item_1_short</th>\n",
       "      <th>Labelling</th>\n",
       "    </tr>\n",
       "  </thead>\n",
       "  <tbody>\n",
       "    <tr>\n",
       "      <th>0</th>\n",
       "      <td>ITEM 1. BUSINESS ﻿ INTRODUCTION ﻿ Evolving Sys...</td>\n",
       "      <td>Evolving Systems provides real-time digital en...</td>\n",
       "    </tr>\n",
       "    <tr>\n",
       "      <th>1</th>\n",
       "      <td>ITEM 1. BUSINESS Our Business We develop, mark...</td>\n",
       "      <td>We develop, market, license, host, and support...</td>\n",
       "    </tr>\n",
       "    <tr>\n",
       "      <th>2</th>\n",
       "      <td>ITEM 1. Business Overview Model N is a leading...</td>\n",
       "      <td>Model N is a leading provider of cloud revenue...</td>\n",
       "    </tr>\n",
       "    <tr>\n",
       "      <th>3</th>\n",
       "      <td>Item 1. Business Overview Datadog is the monit...</td>\n",
       "      <td>Datadog is the monitoring and analytics platfo...</td>\n",
       "    </tr>\n",
       "    <tr>\n",
       "      <th>4</th>\n",
       "      <td>Item 1. Business Overview AudioEye is an indus...</td>\n",
       "      <td>AudioEye is an industry-leading software solut...</td>\n",
       "    </tr>\n",
       "  </tbody>\n",
       "</table>\n",
       "</div>"
      ],
      "text/plain": [
       "                                        item_1_short  \\\n",
       "0  ITEM 1. BUSINESS ﻿ INTRODUCTION ﻿ Evolving Sys...   \n",
       "1  ITEM 1. BUSINESS Our Business We develop, mark...   \n",
       "2  ITEM 1. Business Overview Model N is a leading...   \n",
       "3  Item 1. Business Overview Datadog is the monit...   \n",
       "4  Item 1. Business Overview AudioEye is an indus...   \n",
       "\n",
       "                                           Labelling  \n",
       "0  Evolving Systems provides real-time digital en...  \n",
       "1  We develop, market, license, host, and support...  \n",
       "2  Model N is a leading provider of cloud revenue...  \n",
       "3  Datadog is the monitoring and analytics platfo...  \n",
       "4  AudioEye is an industry-leading software solut...  "
      ]
     },
     "execution_count": 9,
     "metadata": {},
     "output_type": "execute_result"
    }
   ],
   "source": [
    "from load_data import read_data, read_env\n",
    "import os\n",
    "\n",
    "ENV_PATH = os.getcwd()[:-3]\n",
    "DATA_PATH = os.getcwd()[:-3] + \"/data\"\n",
    "\n",
    "env_vars = read_env(ENV_PATH)\n",
    "df = read_data(DATA_PATH)\n",
    "\n",
    "GPT_API_KEY = env_vars[\"GPT_API_KEY\"]\n",
    "\n",
    "df.head()"
   ]
  },
  {
   "cell_type": "code",
   "execution_count": 11,
   "metadata": {},
   "outputs": [
    {
     "name": "stdout",
     "output_type": "stream",
     "text": [
      "\n",
      "\n",
      "At ING Netherlands, customers can access a range of financial services. These services include savings and investments, personal banking, business banking, loans, insurance, and financial planning. ING Netherlands also offers online and mobile banking services, as well as a range of digital products and services.\n"
     ]
    }
   ],
   "source": [
    "from langchain.llms import OpenAI\n",
    "\n",
    "\n",
    "def generate_response(input_text):\n",
    "  llm = OpenAI(temperature=0.7, openai_api_key=GPT_API_KEY)\n",
    "  return llm(input_text)\n",
    "\n",
    "print(generate_response(\"what happens at ING netherlands?\"))"
   ]
  },
  {
   "cell_type": "code",
   "execution_count": null,
   "metadata": {},
   "outputs": [],
   "source": []
  }
 ],
 "metadata": {
  "kernelspec": {
   "display_name": "py38",
   "language": "python",
   "name": "python3"
  },
  "language_info": {
   "codemirror_mode": {
    "name": "ipython",
    "version": 3
   },
   "file_extension": ".py",
   "mimetype": "text/x-python",
   "name": "python",
   "nbconvert_exporter": "python",
   "pygments_lexer": "ipython3",
   "version": "3.8.15"
  },
  "orig_nbformat": 4
 },
 "nbformat": 4,
 "nbformat_minor": 2
}
